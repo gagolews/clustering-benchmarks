{
 "cells": [
  {
   "cell_type": "markdown",
   "id": "468c1969",
   "metadata": {},
   "source": [
    "# Colouriser\n",
    "## Interactive Planar Data Editor\n",
    "\n",
    "See <https://clustering-benchmarks.gagolewski.com> for more details."
   ]
  },
  {
   "cell_type": "code",
   "execution_count": 1,
   "id": "6229d897",
   "metadata": {},
   "outputs": [],
   "source": [
    "from importlib import reload\n",
    "import os.path\n",
    "import matplotlib\n",
    "import genieclust\n",
    "import clustbench\n",
    "\n",
    "# path to the downloaded datasets,\n",
    "# see, e.g., <https://github.com/gagolews/clustering-data-v1>:\n",
    "data_path = os.path.join(\"~\", \"Projects\", \"clustering-data-v1\")  \n",
    "\n",
    "# load an example dataset:\n",
    "benchmark = clustbench.load_dataset(\"wut\", \"x2\", data_path)"
   ]
  },
  {
   "cell_type": "code",
   "execution_count": 2,
   "id": "ca7a1b12",
   "metadata": {},
   "outputs": [
    {
     "name": "stdout",
     "output_type": "stream",
     "text": [
      "Press {m} to toggle between modes (colourise/insert/delete).\n",
      "Press {n} to normalise the cluster labels/size distribution\n",
      "    (only affects the non-noise points, i.e., those with ID>0).\n",
      "Press {z} to undo/redo the last operation.\n",
      "Press {0,1,...,9,a,...,e} to change the current colour.\n",
      "Press {+,-} to change the cursor radius.\n"
     ]
    }
   ],
   "source": [
    "%matplotlib wx  \n",
    "# (inline plotting must be disabled); see %matplotlib --list\n",
    "\n",
    "clr = clustbench.Colouriser(benchmark.data, benchmark.labels[0])  # labels may be None\n",
    "clr.print_help()\n",
    "clr.show()  # start the interactive mode"
   ]
  },
  {
   "cell_type": "code",
   "execution_count": 3,
   "id": "12d6ffb4",
   "metadata": {},
   "outputs": [
    {
     "data": {
      "image/png": "[encoded data removed]",
      "text/plain": [
       "<Figure size 432x288 with 1 Axes>"
      ]
     },
     "metadata": {
      "needs_background": "light"
     },
     "output_type": "display_data"
    }
   ],
   "source": [
    "%matplotlib inline\n",
    "data = clr.get_data()  # fetch the new data matrix\n",
    "labels = clr.get_labels()  # fetch the new labels\n",
    "genieclust.plots.plot_scatter(data, labels=labels-1)  # scatterplot\n",
    "plt.axis(\"equal\")\n",
    "plt.show()"
   ]
  }
 ],
 "metadata": {
  "kernelspec": {
   "display_name": "Python 3 (ipykernel)",
   "language": "python",
   "name": "python3"
  },
  "language_info": {
   "codemirror_mode": {
    "name": "ipython",
    "version": 3
   },
   "file_extension": ".py",
   "mimetype": "text/x-python",
   "name": "python",
   "nbconvert_exporter": "python",
   "pygments_lexer": "ipython3",
   "version": "3.10.6"
  }
 },
 "nbformat": 4,
 "nbformat_minor": 5
}
